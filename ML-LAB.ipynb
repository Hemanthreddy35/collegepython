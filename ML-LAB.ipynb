{
 "cells": [
  {
   "cell_type": "markdown",
   "id": "752fb056-96d3-4c84-aa82-845d957cfd94",
   "metadata": {},
   "source": [
    "Week-1"
   ]
  },
  {
   "cell_type": "code",
   "execution_count": 4,
   "id": "2b32c137-dc38-4f82-baca-9b8cd866ef1d",
   "metadata": {},
   "outputs": [],
   "source": [
    "import numpy as np\n",
    "import pandas as pd"
   ]
  },
  {
   "cell_type": "code",
   "execution_count": 6,
   "id": "3b8990f6-fc7f-4feb-8bdf-042e4f6214ab",
   "metadata": {},
   "outputs": [],
   "source": [
    "from sklearn.impute import SimpleImputer"
   ]
  },
  {
   "cell_type": "code",
   "execution_count": 10,
   "id": "1adba5fd-f967-40f8-bd6e-ce01b28da8be",
   "metadata": {},
   "outputs": [
    {
     "ename": "SyntaxError",
     "evalue": "expected '(' (2636037240.py, line 1)",
     "output_type": "error",
     "traceback": [
      "\u001b[1;36m  Cell \u001b[1;32mIn[10], line 1\u001b[1;36m\u001b[0m\n\u001b[1;33m    def generate_example_=dataset():\u001b[0m\n\u001b[1;37m                         ^\u001b[0m\n\u001b[1;31mSyntaxError\u001b[0m\u001b[1;31m:\u001b[0m expected '('\n"
     ]
    }
   ],
   "source": [
    "def generate_example_=dataset():\n",
    "    data={\n",
    "        'passengerId':[1,2,3,4,5]\n",
    "        'Name':['Jod','Rahul','Hemanth','VimalBhAAi']"
   ]
  },
  {
   "cell_type": "code",
   "execution_count": null,
   "id": "8cd8f350-130c-4ef0-9803-ddf04e6e6c70",
   "metadata": {},
   "outputs": [],
   "source": []
  }
 ],
 "metadata": {
  "kernelspec": {
   "display_name": "Python 3 (ipykernel)",
   "language": "python",
   "name": "python3"
  },
  "language_info": {
   "codemirror_mode": {
    "name": "ipython",
    "version": 3
   },
   "file_extension": ".py",
   "mimetype": "text/x-python",
   "name": "python",
   "nbconvert_exporter": "python",
   "pygments_lexer": "ipython3",
   "version": "3.12.4"
  }
 },
 "nbformat": 4,
 "nbformat_minor": 5
}
