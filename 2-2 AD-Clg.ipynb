{
 "cells": [
  {
   "cell_type": "code",
   "execution_count": 5,
   "id": "f3df4a9d-6cce-40da-8e37-2f09fe04fea0",
   "metadata": {},
   "outputs": [
    {
     "data": {
      "text/plain": [
       "10"
      ]
     },
     "execution_count": 5,
     "metadata": {},
     "output_type": "execute_result"
    }
   ],
   "source": [
    "a=10\n",
    "a"
   ]
  },
  {
   "cell_type": "code",
   "execution_count": 6,
   "id": "b6105556-d161-43aa-9f3c-f0499ae46035",
   "metadata": {},
   "outputs": [
    {
     "data": {
      "text/plain": [
       "int"
      ]
     },
     "execution_count": 6,
     "metadata": {},
     "output_type": "execute_result"
    }
   ],
   "source": [
    "type(a)"
   ]
  },
  {
   "cell_type": "code",
   "execution_count": 7,
   "id": "2f601390-3e96-4480-8601-001e3d8b3fa5",
   "metadata": {},
   "outputs": [
    {
     "data": {
      "text/plain": [
       "float"
      ]
     },
     "execution_count": 7,
     "metadata": {},
     "output_type": "execute_result"
    }
   ],
   "source": [
    "b=10.1\n",
    "type(b)"
   ]
  },
  {
   "cell_type": "code",
   "execution_count": 8,
   "id": "583e3810-ddb6-4759-8274-c1b6c87511b5",
   "metadata": {},
   "outputs": [
    {
     "data": {
      "text/plain": [
       "str"
      ]
     },
     "execution_count": 8,
     "metadata": {},
     "output_type": "execute_result"
    }
   ],
   "source": [
    "c=\"Hello\"\n",
    "type(c)"
   ]
  },
  {
   "cell_type": "code",
   "execution_count": 9,
   "id": "83e2aa25-77e9-4d55-bf49-22ae4daf3ab0",
   "metadata": {},
   "outputs": [
    {
     "data": {
      "text/plain": [
       "bool"
      ]
     },
     "execution_count": 9,
     "metadata": {},
     "output_type": "execute_result"
    }
   ],
   "source": [
    "d=True\n",
    "type(d)"
   ]
  },
  {
   "cell_type": "code",
   "execution_count": 10,
   "id": "9b541cea-8146-4797-ad4c-90e255362861",
   "metadata": {},
   "outputs": [
    {
     "data": {
      "text/plain": [
       "complex"
      ]
     },
     "execution_count": 10,
     "metadata": {},
     "output_type": "execute_result"
    }
   ],
   "source": [
    "e=2+3j\n",
    "type(e)"
   ]
  },
  {
   "cell_type": "code",
   "execution_count": 11,
   "id": "68038f39-165e-42db-a97a-45b5469c0246",
   "metadata": {},
   "outputs": [
    {
     "data": {
      "text/plain": [
       "20.1"
      ]
     },
     "execution_count": 11,
     "metadata": {},
     "output_type": "execute_result"
    }
   ],
   "source": [
    "a+b"
   ]
  },
  {
   "cell_type": "code",
   "execution_count": 12,
   "id": "8941356f-9a44-415b-9a28-f8f41b8441a7",
   "metadata": {},
   "outputs": [],
   "source": [
    "###addition +\n",
    "###subtraction -\n",
    "###multiplication *\n",
    "###division /\n",
    "###remainder %\n",
    "###power **\n",
    "###// Floor division"
   ]
  },
  {
   "cell_type": "code",
   "execution_count": 13,
   "id": "3964a30a-cc56-4d56-88f1-98127bc4b581",
   "metadata": {},
   "outputs": [
    {
     "name": "stdout",
     "output_type": "stream",
     "text": [
      "7\n"
     ]
    },
    {
     "data": {
      "text/plain": [
       "int"
      ]
     },
     "execution_count": 13,
     "metadata": {},
     "output_type": "execute_result"
    }
   ],
   "source": [
    "a=4\n",
    "b=3\n",
    "z=(a+b)\n",
    "print(z)\n",
    "type(z)"
   ]
  },
  {
   "cell_type": "code",
   "execution_count": 14,
   "id": "fa4b195d-8104-4021-9065-7abed6ad94cf",
   "metadata": {},
   "outputs": [
    {
     "name": "stdout",
     "output_type": "stream",
     "text": [
      "1\n"
     ]
    },
    {
     "data": {
      "text/plain": [
       "int"
      ]
     },
     "execution_count": 14,
     "metadata": {},
     "output_type": "execute_result"
    }
   ],
   "source": [
    "c=a-b\n",
    "print(c)\n",
    "type(c)"
   ]
  },
  {
   "cell_type": "code",
   "execution_count": 15,
   "id": "eeb129dc-9b79-4f2a-a89b-f073ebd69070",
   "metadata": {},
   "outputs": [
    {
     "name": "stdout",
     "output_type": "stream",
     "text": [
      "12\n"
     ]
    },
    {
     "data": {
      "text/plain": [
       "int"
      ]
     },
     "execution_count": 15,
     "metadata": {},
     "output_type": "execute_result"
    }
   ],
   "source": [
    "d=a*b\n",
    "print(d)\n",
    "type(d)"
   ]
  },
  {
   "cell_type": "code",
   "execution_count": 16,
   "id": "6defa98c-a883-4ac1-a8d5-7f32933ff4bd",
   "metadata": {},
   "outputs": [
    {
     "name": "stdout",
     "output_type": "stream",
     "text": [
      "1.3333333333333333\n"
     ]
    },
    {
     "data": {
      "text/plain": [
       "float"
      ]
     },
     "execution_count": 16,
     "metadata": {},
     "output_type": "execute_result"
    }
   ],
   "source": [
    "e=a/b\n",
    "print(e)\n",
    "type(e)"
   ]
  },
  {
   "cell_type": "code",
   "execution_count": 17,
   "id": "04f916bc-ec81-4676-8c04-0725c91b3ded",
   "metadata": {},
   "outputs": [
    {
     "name": "stdout",
     "output_type": "stream",
     "text": [
      "1\n"
     ]
    },
    {
     "data": {
      "text/plain": [
       "int"
      ]
     },
     "execution_count": 17,
     "metadata": {},
     "output_type": "execute_result"
    }
   ],
   "source": [
    "f=a%b\n",
    "print(f)\n",
    "type(f)\n"
   ]
  },
  {
   "cell_type": "code",
   "execution_count": 18,
   "id": "d54de5f2-5a90-465e-824d-b75c0a29c4c1",
   "metadata": {},
   "outputs": [
    {
     "name": "stdout",
     "output_type": "stream",
     "text": [
      "64\n"
     ]
    },
    {
     "data": {
      "text/plain": [
       "int"
      ]
     },
     "execution_count": 18,
     "metadata": {},
     "output_type": "execute_result"
    }
   ],
   "source": [
    "g=a**b\n",
    "print(g)\n",
    "type(g)"
   ]
  },
  {
   "cell_type": "code",
   "execution_count": 19,
   "id": "e1246ab4-251a-4261-96f8-8ea59a6a0acc",
   "metadata": {},
   "outputs": [
    {
     "name": "stdout",
     "output_type": "stream",
     "text": [
      "1\n"
     ]
    },
    {
     "data": {
      "text/plain": [
       "int"
      ]
     },
     "execution_count": 19,
     "metadata": {},
     "output_type": "execute_result"
    }
   ],
   "source": [
    "h=a//b\n",
    "print(h)\n",
    "type(h)"
   ]
  },
  {
   "cell_type": "code",
   "execution_count": 20,
   "id": "d34bcf84-a622-49da-b29f-e4655654f006",
   "metadata": {},
   "outputs": [],
   "source": [
    "#>\n",
    "#<\n",
    "#>=\n",
    "#<=\n",
    "#==\n",
    "#!="
   ]
  },
  {
   "cell_type": "code",
   "execution_count": 21,
   "id": "267c4420-700f-4cff-bd11-2023f9ad0963",
   "metadata": {},
   "outputs": [
    {
     "name": "stdout",
     "output_type": "stream",
     "text": [
      "True\n"
     ]
    },
    {
     "data": {
      "text/plain": [
       "bool"
      ]
     },
     "execution_count": 21,
     "metadata": {},
     "output_type": "execute_result"
    }
   ],
   "source": [
    "aa=a>b\n",
    "print(aa)\n",
    "type(aa)"
   ]
  },
  {
   "cell_type": "code",
   "execution_count": 22,
   "id": "c133ebc0-db5f-4d34-b771-fd140756c296",
   "metadata": {},
   "outputs": [
    {
     "name": "stdout",
     "output_type": "stream",
     "text": [
      "False\n"
     ]
    },
    {
     "data": {
      "text/plain": [
       "bool"
      ]
     },
     "execution_count": 22,
     "metadata": {},
     "output_type": "execute_result"
    }
   ],
   "source": [
    "ab=a<b\n",
    "print(ab)\n",
    "type(ab)"
   ]
  },
  {
   "cell_type": "code",
   "execution_count": 23,
   "id": "8564935e-00fe-489c-b13b-7558c6dc1712",
   "metadata": {},
   "outputs": [
    {
     "name": "stdout",
     "output_type": "stream",
     "text": [
      "True\n"
     ]
    },
    {
     "data": {
      "text/plain": [
       "bool"
      ]
     },
     "execution_count": 23,
     "metadata": {},
     "output_type": "execute_result"
    }
   ],
   "source": [
    "ac=a>=b\n",
    "print(ac)\n",
    "type(ac)"
   ]
  },
  {
   "cell_type": "code",
   "execution_count": 24,
   "id": "36d002e6-0ede-414c-aabb-bbcc8c85c67f",
   "metadata": {},
   "outputs": [
    {
     "name": "stdout",
     "output_type": "stream",
     "text": [
      "False\n"
     ]
    },
    {
     "data": {
      "text/plain": [
       "bool"
      ]
     },
     "execution_count": 24,
     "metadata": {},
     "output_type": "execute_result"
    }
   ],
   "source": [
    "ad=a<=b\n",
    "print(ad)\n",
    "type(ad)"
   ]
  },
  {
   "cell_type": "code",
   "execution_count": 25,
   "id": "bbd232f8-2225-4502-9f83-0f0100117849",
   "metadata": {},
   "outputs": [
    {
     "name": "stdout",
     "output_type": "stream",
     "text": [
      "False\n"
     ]
    },
    {
     "data": {
      "text/plain": [
       "bool"
      ]
     },
     "execution_count": 25,
     "metadata": {},
     "output_type": "execute_result"
    }
   ],
   "source": [
    "ae=a==b\n",
    "print(ae)\n",
    "type(ae)"
   ]
  },
  {
   "cell_type": "code",
   "execution_count": 26,
   "id": "830d669d-0b9c-465f-ba36-c0cdb5f6f220",
   "metadata": {},
   "outputs": [
    {
     "name": "stdout",
     "output_type": "stream",
     "text": [
      "True\n"
     ]
    },
    {
     "data": {
      "text/plain": [
       "bool"
      ]
     },
     "execution_count": 26,
     "metadata": {},
     "output_type": "execute_result"
    }
   ],
   "source": [
    "af=a!=b\n",
    "print(af)\n",
    "type(af)"
   ]
  },
  {
   "cell_type": "code",
   "execution_count": 27,
   "id": "5ce2c868-3bfa-4553-9c4b-0794159cab29",
   "metadata": {},
   "outputs": [],
   "source": [
    "#logical operators\n",
    "#and #or #not"
   ]
  },
  {
   "cell_type": "code",
   "execution_count": 28,
   "id": "a1761b56-e810-4769-8841-bd12cab41101",
   "metadata": {},
   "outputs": [
    {
     "data": {
      "text/plain": [
       "False"
      ]
     },
     "execution_count": 28,
     "metadata": {},
     "output_type": "execute_result"
    }
   ],
   "source": [
    "a>b and a>100"
   ]
  },
  {
   "cell_type": "code",
   "execution_count": 29,
   "id": "6fe4957e-b4d6-48c4-8ab4-ae5645d7000a",
   "metadata": {},
   "outputs": [
    {
     "data": {
      "text/plain": [
       "True"
      ]
     },
     "execution_count": 29,
     "metadata": {},
     "output_type": "execute_result"
    }
   ],
   "source": [
    "a>b or a>100"
   ]
  },
  {
   "cell_type": "code",
   "execution_count": 30,
   "id": "e32c54bd-21a3-40f3-9664-8fd5e0e2d4cf",
   "metadata": {},
   "outputs": [
    {
     "data": {
      "text/plain": [
       "False"
      ]
     },
     "execution_count": 30,
     "metadata": {},
     "output_type": "execute_result"
    }
   ],
   "source": [
    "not a>b"
   ]
  },
  {
   "cell_type": "code",
   "execution_count": 31,
   "id": "b4d91a0e-0d1b-49b3-8255-a1ef63cf743d",
   "metadata": {},
   "outputs": [
    {
     "name": "stdin",
     "output_type": "stream",
     "text": [
      "CGPA:  8.5\n"
     ]
    }
   ],
   "source": [
    "cgpa=float(input(\"CGPA: \"))"
   ]
  },
  {
   "cell_type": "code",
   "execution_count": 32,
   "id": "775cc53e-3254-4d00-ac72-901cf60e8cad",
   "metadata": {},
   "outputs": [
    {
     "data": {
      "text/plain": [
       "True"
      ]
     },
     "execution_count": 32,
     "metadata": {},
     "output_type": "execute_result"
    }
   ],
   "source": [
    "cgpa>=8.10 and cgpa<=9.09 #A grade"
   ]
  },
  {
   "cell_type": "code",
   "execution_count": 33,
   "id": "cecf6b3d-c29f-4781-a6aa-ab460e90d7d2",
   "metadata": {},
   "outputs": [
    {
     "data": {
      "text/plain": [
       "False"
      ]
     },
     "execution_count": 33,
     "metadata": {},
     "output_type": "execute_result"
    }
   ],
   "source": [
    "cgpa>=7.10 and cgpa<=8.09  #B grade"
   ]
  },
  {
   "cell_type": "code",
   "execution_count": 34,
   "id": "82ff1892-f717-4cb4-b3f7-e4a8d9e79cee",
   "metadata": {},
   "outputs": [
    {
     "data": {
      "text/plain": [
       "False"
      ]
     },
     "execution_count": 34,
     "metadata": {},
     "output_type": "execute_result"
    }
   ],
   "source": [
    "cgpa>=6.10 and cgpa<=7.09 #C grade"
   ]
  },
  {
   "cell_type": "code",
   "execution_count": 35,
   "id": "354676c9-41e0-4325-a86b-4af762e89087",
   "metadata": {},
   "outputs": [
    {
     "data": {
      "text/plain": [
       "False"
      ]
     },
     "execution_count": 35,
     "metadata": {},
     "output_type": "execute_result"
    }
   ],
   "source": [
    "cgpa>=5.10 and cgpa<=6.09 #D grade"
   ]
  },
  {
   "cell_type": "code",
   "execution_count": 36,
   "id": "cc591b61-f907-4619-8cb4-537bc899c287",
   "metadata": {},
   "outputs": [
    {
     "data": {
      "text/plain": [
       "8.5"
      ]
     },
     "execution_count": 36,
     "metadata": {},
     "output_type": "execute_result"
    }
   ],
   "source": [
    "cgpa\n"
   ]
  },
  {
   "cell_type": "code",
   "execution_count": 37,
   "id": "230ea38d-0e4d-4212-8fd2-11f9871fd99d",
   "metadata": {},
   "outputs": [
    {
     "data": {
      "text/plain": [
       "[203, 333, 2, 322, 3, 1, True, 33, False, 'Hyderabad', 22]"
      ]
     },
     "execution_count": 37,
     "metadata": {},
     "output_type": "execute_result"
    }
   ],
   "source": [
    "c=[203,333,2,322,3,1,True,33,False,'Hyderabad',22]\n",
    "c"
   ]
  },
  {
   "cell_type": "code",
   "execution_count": 38,
   "id": "f02c7433-c673-44d8-97d0-92ca9b30ce7d",
   "metadata": {},
   "outputs": [
    {
     "data": {
      "text/plain": [
       "2"
      ]
     },
     "execution_count": 38,
     "metadata": {},
     "output_type": "execute_result"
    }
   ],
   "source": [
    "c[2]"
   ]
  },
  {
   "cell_type": "code",
   "execution_count": 39,
   "id": "ef564362-fb40-473f-8ba8-d5babcf48e49",
   "metadata": {},
   "outputs": [
    {
     "data": {
      "text/plain": [
       "203"
      ]
     },
     "execution_count": 39,
     "metadata": {},
     "output_type": "execute_result"
    }
   ],
   "source": [
    "c[0]"
   ]
  },
  {
   "cell_type": "code",
   "execution_count": 40,
   "id": "c6807abd-b331-4819-9ca9-47edbeff0578",
   "metadata": {},
   "outputs": [
    {
     "data": {
      "text/plain": [
       "1"
      ]
     },
     "execution_count": 40,
     "metadata": {},
     "output_type": "execute_result"
    }
   ],
   "source": [
    "c[-6]"
   ]
  },
  {
   "cell_type": "code",
   "execution_count": 41,
   "id": "ed3d429d-a398-4847-8f65-bdac472836fb",
   "metadata": {},
   "outputs": [
    {
     "data": {
      "text/plain": [
       "[333]"
      ]
     },
     "execution_count": 41,
     "metadata": {},
     "output_type": "execute_result"
    }
   ],
   "source": [
    "c[1:2:3]"
   ]
  },
  {
   "cell_type": "code",
   "execution_count": 42,
   "id": "bb850573-07a6-44ce-9854-1266bd4d65e9",
   "metadata": {},
   "outputs": [],
   "source": [
    "c.append(80)"
   ]
  },
  {
   "cell_type": "code",
   "execution_count": 43,
   "id": "1089acf7-eff7-4cba-b3e8-ea235a3cc751",
   "metadata": {},
   "outputs": [
    {
     "data": {
      "text/plain": [
       "[203, 333, 2, 322, 3, 1, True, 33, False, 'Hyderabad', 22, 80]"
      ]
     },
     "execution_count": 43,
     "metadata": {},
     "output_type": "execute_result"
    }
   ],
   "source": [
    "c"
   ]
  },
  {
   "cell_type": "code",
   "execution_count": 44,
   "id": "0b0b20a5-ef0b-4f05-a65f-b2648da84e67",
   "metadata": {},
   "outputs": [],
   "source": [
    "c.insert(1,44)"
   ]
  },
  {
   "cell_type": "code",
   "execution_count": 45,
   "id": "a12139b1-b4e8-4915-943a-86c2e595d443",
   "metadata": {},
   "outputs": [
    {
     "data": {
      "text/plain": [
       "[203, 44, 333, 2, 322, 3, 1, True, 33, False, 'Hyderabad', 22, 80]"
      ]
     },
     "execution_count": 45,
     "metadata": {},
     "output_type": "execute_result"
    }
   ],
   "source": [
    "c"
   ]
  },
  {
   "cell_type": "code",
   "execution_count": 46,
   "id": "7f00d7a2-7a34-488a-8563-b39520146e16",
   "metadata": {},
   "outputs": [
    {
     "data": {
      "text/plain": [
       "[203, 44, 333, 2, 322, 3, 1, True, 33, False, 'Hyderabad', 22, 80]"
      ]
     },
     "execution_count": 46,
     "metadata": {},
     "output_type": "execute_result"
    }
   ],
   "source": [
    "c"
   ]
  },
  {
   "cell_type": "code",
   "execution_count": 47,
   "id": "f2ad252f-86cb-4311-9b7d-e0955ebb261b",
   "metadata": {},
   "outputs": [
    {
     "data": {
      "text/plain": [
       "1"
      ]
     },
     "execution_count": 47,
     "metadata": {},
     "output_type": "execute_result"
    }
   ],
   "source": [
    "c.count(44)"
   ]
  },
  {
   "cell_type": "code",
   "execution_count": 116,
   "id": "c08effcd-7fad-4125-9f18-9e832b16b697",
   "metadata": {},
   "outputs": [],
   "source": [
    "###Dictionary\n",
    "####these are key value pairs"
   ]
  },
  {
   "cell_type": "code",
   "execution_count": 102,
   "id": "bd041780-5cea-4aa4-bf7e-c2b790a010dc",
   "metadata": {},
   "outputs": [
    {
     "data": {
      "text/plain": [
       "{101: 'Heii', 102: 'Hello'}"
      ]
     },
     "execution_count": 102,
     "metadata": {},
     "output_type": "execute_result"
    }
   ],
   "source": [
    "d={101:\"Heii\",102:\"Hello\"}\n",
    "d"
   ]
  },
  {
   "cell_type": "code",
   "execution_count": 104,
   "id": "4096b12c-b8bc-4adf-84e4-92deb4efd869",
   "metadata": {},
   "outputs": [
    {
     "data": {
      "text/plain": [
       "'Heii'"
      ]
     },
     "execution_count": 104,
     "metadata": {},
     "output_type": "execute_result"
    }
   ],
   "source": [
    "d[101]"
   ]
  },
  {
   "cell_type": "code",
   "execution_count": 110,
   "id": "2182b36c-d5a1-4644-ba7c-09fc02ed9aac",
   "metadata": {},
   "outputs": [
    {
     "data": {
      "text/plain": [
       "str"
      ]
     },
     "execution_count": 110,
     "metadata": {},
     "output_type": "execute_result"
    }
   ],
   "source": [
    "type(d[101])"
   ]
  },
  {
   "cell_type": "code",
   "execution_count": 124,
   "id": "ed36be50-c0ff-45af-aee1-dc2a87401087",
   "metadata": {},
   "outputs": [
    {
     "data": {
      "text/plain": [
       "{101: 'Heii',\n",
       " 102: 'Hello',\n",
       " 105: {'a': {30, 50, 70}, 'b': (1000, 5000, 7000, 9000), 'c': ['🤣🤣🤣🤣🤣🤣🤣🤣']}}"
      ]
     },
     "execution_count": 124,
     "metadata": {},
     "output_type": "execute_result"
    }
   ],
   "source": [
    "d[105]={'a':{30,50,70},'b':(1000,5000,7000,9000),'c':[\"🤣🤣🤣🤣🤣🤣🤣🤣\"]}\n",
    "d"
   ]
  },
  {
   "cell_type": "code",
   "execution_count": 130,
   "id": "dbf33911-bd57-4cb0-b7e6-e90454162303",
   "metadata": {},
   "outputs": [
    {
     "data": {
      "text/plain": [
       "'Heii'"
      ]
     },
     "execution_count": 130,
     "metadata": {},
     "output_type": "execute_result"
    }
   ],
   "source": [
    "d[101]"
   ]
  },
  {
   "cell_type": "code",
   "execution_count": 136,
   "id": "4e27b65b-9242-4cff-abda-a6a95a7ea2a5",
   "metadata": {},
   "outputs": [
    {
     "data": {
      "text/plain": [
       "{101: 'Heii',\n",
       " 102: 'Hello',\n",
       " 105: {'a': {30, 50, 70}, 'b': (1000, 5000, 7000, 9000), 'c': ['🤣🤣🤣🤣🤣🤣🤣🤣']}}"
      ]
     },
     "execution_count": 136,
     "metadata": {},
     "output_type": "execute_result"
    }
   ],
   "source": [
    "d"
   ]
  },
  {
   "cell_type": "code",
   "execution_count": null,
   "id": "4c3a9b84-02d1-4ba3-83ad-ce61995fef76",
   "metadata": {},
   "outputs": [],
   "source": []
  }
 ],
 "metadata": {
  "kernelspec": {
   "display_name": "Python 3 (ipykernel)",
   "language": "python",
   "name": "python3"
  },
  "language_info": {
   "codemirror_mode": {
    "name": "ipython",
    "version": 3
   },
   "file_extension": ".py",
   "mimetype": "text/x-python",
   "name": "python",
   "nbconvert_exporter": "python",
   "pygments_lexer": "ipython3",
   "version": "3.12.4"
  }
 },
 "nbformat": 4,
 "nbformat_minor": 5
}
